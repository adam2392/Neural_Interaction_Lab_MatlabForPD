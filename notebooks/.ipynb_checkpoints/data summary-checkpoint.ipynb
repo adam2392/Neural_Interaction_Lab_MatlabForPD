{
 "cells": [
  {
   "cell_type": "code",
   "execution_count": 1,
   "metadata": {
    "collapsed": false
   },
   "outputs": [
    {
     "name": "stderr",
     "output_type": "stream",
     "text": [
      "/usr/local/lib/python2.7/site-packages/matplotlib/font_manager.py:273: UserWarning: Matplotlib is building the font cache using fc-list. This may take a moment.\n",
      "  warnings.warn('Matplotlib is building the font cache using fc-list. This may take a moment.')\n"
     ]
    }
   ],
   "source": [
    "# Import Necessary Libraries\n",
    "import numpy as np\n",
    "import os, csv, json\n",
    "import math\n",
    "import random\n",
    "import operator\n",
    "import collections\n",
    "import pandas as pd\n",
    "\n",
    "import pprint\n",
    "import itertools\n",
    "import matplotlib\n",
    "from matplotlib import *\n",
    "from matplotlib import pyplot as plt\n",
    "\n",
    "from sklearn.decomposition import PCA\n",
    "import scipy.stats as stats\n",
    "import scipy.io\n",
    "from scipy.spatial import distance as Distance\n",
    "\n",
    "# pretty charting\n",
    "import seaborn as sns\n",
    "sns.set_palette('muted')\n",
    "sns.set_style('darkgrid')\n",
    "\n",
    "%matplotlib inline"
   ]
  },
  {
   "cell_type": "markdown",
   "metadata": {},
   "source": [
    "# First Summarize Kinect Data\n",
    "Subject 013\n",
    "ON\n",
    "Step Length Mean + SD\n",
    "Cadence Mean + SD\n",
    "Speed Mean + SD\n",
    "Var step length + SD\n",
    "Var Cadence Mean + SD\n",
    "Var Speed Mean + SD\n",
    "OFF\n",
    "Repeat 1-6. "
   ]
  },
  {
   "cell_type": "code",
   "execution_count": 2,
   "metadata": {
    "collapsed": false
   },
   "outputs": [
    {
     "name": "stdout",
     "output_type": "stream",
     "text": [
      "the subjects with on and off testing were:  ['012', '013', '014', '015', '016', '017', '020', '021', '022']\n"
     ]
    }
   ],
   "source": [
    "######## Get list of files (.mat) we want to work with ########\n",
    "filedir = '../02_StepAnalysis/Processed_StepLength/'\n",
    "files = []\n",
    "debug = 0\n",
    "\n",
    "# get kinect files\n",
    "for file in os.listdir(filedir):\n",
    "    if file.endswith('.mat'):\n",
    "        files.append(file)\n",
    "    \n",
    "######## Load in EVENTS struct to find correct events\n",
    "eparcDir = '../05_Eparc/Processed_Eparc/'\n",
    "eparcfiles = []\n",
    "eparcsubjs = {}\n",
    "\n",
    "# add eparc files\n",
    "for file in os.listdir(eparcDir):\n",
    "    if file.endswith('.mat'):\n",
    "        eparcfiles.append(file)\n",
    "        eparcsubjs[file.split('_')[1]] = file\n",
    "\n",
    "# determine which subjects to analyze (e.g. ones with both eparc and kinect)\n",
    "subjs_to_analyze = []\n",
    "for file in files:\n",
    "    subj = file.split('_')[1]\n",
    "    if subj in eparcsubjs.keys():\n",
    "        subjs_to_analyze.append([file, eparcsubjs[subj]])\n",
    "\n",
    "subjs_to_analyze = np.array(subjs_to_analyze)     \n",
    "\n",
    "# subjects with both pd on/off\n",
    "onoffsubj = ['012', '013', '014', '015', '016', '017', '020', '021', '022']\n",
    "\n",
    "print \"the subjects with on and off testing were: \", onoffsubj\n",
    "if debug:\n",
    "    print \"The files we can analyze are: \"\n",
    "    print subjs_to_analyze"
   ]
  },
  {
   "cell_type": "markdown",
   "metadata": {},
   "source": [
    "## Get Data\n",
    "For all metrics:\n",
    "steplength, cadence, speed, stepwidth\n"
   ]
  },
  {
   "cell_type": "code",
   "execution_count": 8,
   "metadata": {
    "collapsed": false
   },
   "outputs": [
    {
     "name": "stdout",
     "output_type": "stream",
     "text": [
      "Eparc has nan at:  ['Subj_002_Step.mat' 'Subj_002_EPARC.mat']\n",
      "Eparc has nan at:  ['Subj_003_Step.mat' 'Subj_003_EPARC.mat']\n",
      "Eparc has nan at:  ['Subj_016_2_Step.mat' 'Subj_016_EPARC.mat']\n",
      "Eparc has nan at:  ['Subj_019_Step.mat' 'Subj_019_EPARC.mat']\n"
     ]
    }
   ],
   "source": [
    "stepLength = {}\n",
    "speed = {}\n",
    "cadence = {}\n",
    "steps = {}\n",
    "stepWidth = {}\n",
    "\n",
    "for idx, subj in enumerate(subjs_to_analyze):\n",
    "    filesplit = subj[0].split('_')\n",
    "    subj_num = str(filesplit[1])\n",
    "    \n",
    "    try:\n",
    "        onoff = int(filesplit[2])\n",
    "    except:\n",
    "        onoff = None\n",
    "        \n",
    "    # whole file location of each subject's mat file\n",
    "    kinectfile = filedir+subj[0]\n",
    "    eparcfile = eparcDir+subj[1]\n",
    "    \n",
    "    # load in eparc and kinect data structs\n",
    "    kinectdata = scipy.io.loadmat(kinectfile)\n",
    "    kinectdata = kinectdata[sorted(kinectdata.keys())[0]]\n",
    "    eparcdata = scipy.io.loadmat(eparcfile)\n",
    "    eparcdata = eparcdata[sorted(eparcdata.keys())[0]]\n",
    "\n",
    "    ## 01: Load in step lengths and speed as meters  \n",
    "    eparc_steplength = eparcdata['StepLength'][0][0]/100\n",
    "    eparc_speed      = eparcdata['Speed'][0][0]/100\n",
    "    eparc_stepwidth  = eparcdata['StepWidth'][0][0]/100\n",
    "    \n",
    "    kinect_steplength = kinectdata['pks'][0][0]\n",
    "    kinect_speed = kinectdata['velocity'][0][0]\n",
    "    kinect_cadence = kinectdata['cadence'][0][0]\n",
    "    kinect_step = len(kinect_steplength)\n",
    "    \n",
    "    fullset = 1\n",
    "    # if there is an on/off pair dataset, handle differently\n",
    "    if onoff:\n",
    "        subj_num = subj_num + '-' + str(onoff)\n",
    "\n",
    "        if len(eparc_steplength) == 18:\n",
    "            if onoff == 1:\n",
    "                eparc_steplength = eparc_steplength[0:9]\n",
    "                eparc_stepwidth = eparc_stepwidth[0:9]\n",
    "                eparc_speed = eparc_speed[0:9]\n",
    "            elif onoff == 2:\n",
    "                eparc_steplength = eparc_steplength[9:18]\n",
    "                eparc_stepwidth = eparc_stepwidth[9:18]\n",
    "                eparc_speed = eparc_speed[9:18]\n",
    "        else: # not full data set from eparc\n",
    "            fullset = 0\n",
    "    else:\n",
    "        ## 01: Load in step lengths\n",
    "        eparc_steplength = eparcdata['StepLength'][0][0]/100\n",
    "        eparc_speed      = eparcdata['Speed'][0][0]/100\n",
    "        eparc_stepwidth  = eparcdata['StepWidth'][0][0]/100\n",
    "\n",
    "        kinect_stepLength = kinectdata['pks'][0][0]\n",
    "        kinect_velocity = kinectdata['velocity'][0][0]\n",
    "        kinect_cadence = kinectdata['cadence'][0][0]\n",
    "      \n",
    "    flag = 0\n",
    "    if any(np.isnan(eparc_steplength)) or any(np.isnan(eparc_speed)) or any(np.isnan(eparc_stepwidth)):\n",
    "        print \"Eparc has nan at: \", subj\n",
    "        flag = 1\n",
    "    if any(np.isnan(kinect_steplength)) or any(np.isnan(kinect_speed)) or any(np.isnan(kinect_cadence)):\n",
    "        print \"Kinect has nan at: \", subj\n",
    "        flag = 1\n",
    "    \n",
    "    if flag == 0 and fullset == 1:\n",
    "        ## 02: Put all data into nested dictionary\n",
    "        stepLength[subj_num] = {}\n",
    "        speed[subj_num] = {}\n",
    "        cadence[subj_num] = {}\n",
    "        steps[subj_num] = {}\n",
    "        stepWidth[subj_num] = {}\n",
    "\n",
    "        stepLength[subj_num]['kinect'] = kinect_steplength\n",
    "        stepLength[subj_num]['eparc'] = eparc_steplength\n",
    "        speed[subj_num]['kinect'] = kinect_speed\n",
    "        speed[subj_num]['eparc'] = eparc_speed\n",
    "        cadence[subj_num]['kinect'] = kinect_cadence\n",
    "        steps[subj_num]['kinect'] = kinect_step\n",
    "        stepWidth[subj_num]['eparc'] = eparc_stepwidth"
   ]
  },
  {
   "cell_type": "code",
   "execution_count": 14,
   "metadata": {
    "collapsed": false
   },
   "outputs": [],
   "source": [
    "# Reorganize into kinect sub dict\n",
    "kinect_temp = {}\n",
    "eparc_temp = {}\n",
    "\n",
    "for subj in stepLength.keys():\n",
    "    kinect_temp[subj] = {}\n",
    "    kinect_temp[subj]['stepLength'] = stepLength[subj]['kinect']\n",
    "    kinect_temp[subj]['speed'] = speed[subj]['kinect']\n",
    "    kinect_temp[subj]['cadence'] = cadence[subj]['kinect']\n",
    "    kinect_temp[subj]['steps'] = steps[subj]['kinect']\n",
    "    \n",
    "    eparc_temp[subj] = {}\n",
    "    eparc_temp[subj]['stepLength'] = stepLength[subj]['eparc']\n",
    "    eparc_temp[subj]['speed'] = speed[subj]['eparc']\n",
    "    eparc_temp[subj]['stepWidth'] = stepWidth[subj]['eparc']"
   ]
  },
  {
   "cell_type": "code",
   "execution_count": 19,
   "metadata": {
    "collapsed": false
   },
   "outputs": [],
   "source": [
    "kinect = {}\n",
    "eparc = {}\n",
    "\n",
    "for subj in sorted(kinect_temp.keys()):\n",
    "    kinect[subj] = {}\n",
    "    for idx, metric in enumerate(sorted(kinect_temp[subj].keys())):\n",
    "#         data_to_print = reject_outliers(kinect_temp[subj][metric])\n",
    "        data_to_print = kinect_temp[subj][metric]\n",
    "        \n",
    "        avge = \"{0:.3f}\".format(np.mean(data_to_print))\n",
    "        std = \"{0:.3f}\".format(np.std(data_to_print))\n",
    "        \n",
    "        kinect[subj][metric] = [avge, std]\n",
    "        \n",
    "for subj in sorted(eparc_temp.keys()):\n",
    "    eparc[subj] = {}\n",
    "    for idx, metric in enumerate(sorted(eparc_temp[subj].keys())):\n",
    "#         data_to_print = reject_outliers(eparc_temp[subj][metric])\n",
    "        data_to_print = eparc_temp[subj][metric]\n",
    "        \n",
    "        avge = \"{0:.3f}\".format(np.mean(data_to_print))\n",
    "        std = \"{0:.3f}\".format(np.std(data_to_print))\n",
    "        \n",
    "        eparc[subj][metric] = [avge, std]        "
   ]
  },
  {
   "cell_type": "code",
   "execution_count": 5,
   "metadata": {
    "collapsed": true
   },
   "outputs": [],
   "source": [
    "def reject_outliers(data, m = 2.):\n",
    "    d = np.abs(data - np.median(data))\n",
    "    mdev = np.median(d)\n",
    "    s = d/mdev if mdev else 0.\n",
    "    return data[s<m]\n",
    "\n",
    "def pretty(d, indent=0):\n",
    "    for key, value in d.iteritems():\n",
    "        print '\\t' * indent + str(key)\n",
    "        if isinstance(value, dict):\n",
    "            pretty(value, indent+1)\n",
    "        else:\n",
    "            print '\\t' * (indent+1) + str(value)\n",
    "            \n",
    "# define patient groups\n",
    "pdon_firstgroup = ['001', '002', '003', '004', '005', '006', '007'\\\n",
    "              '008', '009', '010']\n",
    "control_group = ['101', '102', '103', '104', '105', '106', '107', '108', '109', '110',\\\n",
    "                   '111', '112', '113', '114', '115', '116', '117', '118', '119', '120', '121', '122']\n",
    "pdoff_group = ['011-1', '012-1', '013-1', '014-1', '015-1',\\\n",
    "                    '016-1', '017-1', '018-1', '019-1', '020-1', '021-1', '022-1']\n",
    "pdon_secondgroup = ['011-2', '012-2', '013-2', '014-2', '015-2',\\\n",
    "                    '016-2', '017-2', '018-2', '019-2', '020-2', '021-2', '022-2']\n"
   ]
  },
  {
   "cell_type": "markdown",
   "metadata": {},
   "source": [
    "## Put Metric Modality Data into CSV File"
   ]
  },
  {
   "cell_type": "code",
   "execution_count": 22,
   "metadata": {
    "collapsed": false
   },
   "outputs": [
    {
     "name": "stdout",
     "output_type": "stream",
     "text": [
      "finished\n"
     ]
    }
   ],
   "source": [
    "filename = \"table/kinectSubjSummary.csv\"\n",
    "\n",
    "with open(filename, 'w') as output:\n",
    "    writer = csv.writer(output, lineterminator = '\\n')\n",
    "    writer.writerow(['subject', 'Step Length', '# Steps', 'Speed'])\n",
    "    \n",
    "    for idx, subj in enumerate(sorted(kinect.keys())):\n",
    "        stepL_avge = kinect[subj]['stepLength'][0]\n",
    "        stepL_std = kinect[subj]['stepLength'][1]\n",
    "        step_avge = kinect[subj]['steps'][0]\n",
    "        step_std = kinect[subj]['steps'][1]\n",
    "        speed_avge = kinect[subj]['speed'][0]\n",
    "        speed_std = kinect[subj]['speed'][1]\n",
    "        \n",
    "        stepL_data = str(stepL_avge) + ' +/- ' + str(stepL_std)\n",
    "        step_data = str(step_avge)\n",
    "        speed_data = str(speed_avge) + ' +/- ' + str(speed_std)\n",
    "        writer.writerow([subj, stepL_data, step_data, speed_data])\n",
    "print \"finished\""
   ]
  },
  {
   "cell_type": "code",
   "execution_count": 23,
   "metadata": {
    "collapsed": false
   },
   "outputs": [
    {
     "name": "stdout",
     "output_type": "stream",
     "text": [
      "finished\n"
     ]
    }
   ],
   "source": [
    "filename = \"table/eparcSubjSummary.csv\"\n",
    "\n",
    "with open(filename, 'w') as output:\n",
    "    writer = csv.writer(output, lineterminator = '\\n')\n",
    "    writer.writerow(['subject', 'Step Length', '# Steps', 'Speed'])\n",
    "    \n",
    "    for idx, subj in enumerate(sorted(eparc.keys())):\n",
    "        stepL_avge = eparc[subj]['stepLength'][0]\n",
    "        stepL_std = eparc[subj]['stepLength'][1]\n",
    "        stepW_avge = eparc[subj]['stepWidth'][0]\n",
    "        stepW_std = eparc[subj]['stepWidth'][1]\n",
    "        speed_avge = eparc[subj]['speed'][0]\n",
    "        speed_std = eparc[subj]['speed'][1]\n",
    "        \n",
    "        stepL_data = str(stepL_avge) + ' +/- ' + str(stepL_std)\n",
    "        stepW_data = str(stepW_avge) + ' +/- ' + str(stepW_std)\n",
    "        speed_data = str(speed_avge) + ' +/- ' + str(speed_std)\n",
    "        writer.writerow([subj, stepL_data, stepW_data, speed_data])\n",
    "print \"finished\""
   ]
  }
 ],
 "metadata": {
  "kernelspec": {
   "display_name": "Python 2",
   "language": "python",
   "name": "python2"
  },
  "language_info": {
   "codemirror_mode": {
    "name": "ipython",
    "version": 2
   },
   "file_extension": ".py",
   "mimetype": "text/x-python",
   "name": "python",
   "nbconvert_exporter": "python",
   "pygments_lexer": "ipython2",
   "version": "2.7.11"
  }
 },
 "nbformat": 4,
 "nbformat_minor": 0
}
