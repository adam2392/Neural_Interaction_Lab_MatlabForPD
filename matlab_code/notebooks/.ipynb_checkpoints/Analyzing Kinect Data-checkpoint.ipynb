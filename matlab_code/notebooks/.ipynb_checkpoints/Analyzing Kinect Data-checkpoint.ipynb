{
 "cells": [
  {
   "cell_type": "code",
   "execution_count": 1,
   "metadata": {
    "collapsed": false
   },
   "outputs": [
    {
     "name": "stderr",
     "output_type": "stream",
     "text": [
      "/usr/local/lib/python2.7/site-packages/matplotlib/font_manager.py:273: UserWarning: Matplotlib is building the font cache using fc-list. This may take a moment.\n",
      "  warnings.warn('Matplotlib is building the font cache using fc-list. This may take a moment.')\n"
     ]
    }
   ],
   "source": [
    "import pandas as pd\n",
    "import numpy as np\n",
    "import json\n",
    "from IPython.display import display\n",
    "\n",
    "import matplotlib\n",
    "from matplotlib import *\n",
    "from matplotlib import pyplot as plt\n",
    "\n",
    "from sklearn.decomposition import PCA\n",
    "import scipy.stats as stats\n",
    "import scipy.io\n",
    "from scipy.spatial import distance as Distance\n",
    "from scipy.stats import ttest_ind\n",
    "from scipy.stats import binom_test\n",
    "\n",
    "# pretty charting\n",
    "import seaborn as sns\n",
    "sns.set_palette('muted')\n",
    "sns.set_style('darkgrid')\n",
    "\n",
    "import random\n",
    "random.seed(9001)\n",
    "\n",
    "%matplotlib inline\n",
    "\n",
    "## sklearn imports\n",
    "# import sklearn.linear_model\n",
    "# import sklearn.cross_validation\n",
    "# import sklearn.tree\n",
    "# import sklearn.ensemble\n",
    "# import sklearn.preprocessing\n",
    "# import sklearn.feature_selection\n",
    "# import sklearn.pipeline\n",
    "# import sklearn.grid_search"
   ]
  },
  {
   "cell_type": "code",
   "execution_count": 61,
   "metadata": {
    "collapsed": false
   },
   "outputs": [
    {
     "name": "stdout",
     "output_type": "stream",
     "text": [
      "['Subj_001_Step.mat', 'Subj_002_Step.mat', 'Subj_003_Step.mat', 'Subj_005_Step.mat', 'Subj_006_Step.mat', 'Subj_007_Step.mat', 'Subj_008_Step.mat', 'Subj_009_Step.mat', 'Subj_010_Step.mat', 'Subj_011_1_Step.mat', 'Subj_011_2_Step.mat', 'Subj_012_1_Step.mat', 'Subj_012_2_Step.mat', 'Subj_013_1_Step.mat', 'Subj_013_2_Step.mat', 'Subj_014_1_Step.mat', 'Subj_014_2_Step.mat', 'Subj_015_1_Step.mat', 'Subj_015_2_Step.mat', 'Subj_016_1_Step.mat', 'Subj_016_2_Step.mat', 'Subj_017_1_Step.mat', 'Subj_017_2_Step.mat', 'Subj_018_Step.mat', 'Subj_019_Step.mat', 'Subj_020_1_Step.mat', 'Subj_020_2_Step.mat', 'Subj_021_1_Step.mat', 'Subj_021_2_Step.mat', 'Subj_022_1_Step.mat', 'Subj_022_2_Step.mat', 'Subj_103_Step.mat', 'Subj_104_Step.mat', 'Subj_105_Step.mat', 'Subj_106_Step.mat', 'Subj_107_Step.mat', 'Subj_108_Step.mat', 'Subj_109_Step.mat', 'Subj_110_Step.mat', 'Subj_112_Step.mat', 'Subj_113_Step.mat', 'Subj_114_Step.mat', 'Subj_115_Step.mat', 'Subj_117_Step.mat', 'Subj_118_Step.mat', 'Subj_119_Step.mat', 'Subj_120_Step.mat', 'Subj_121_Step.mat']\n"
     ]
    }
   ],
   "source": [
    "# subjects hard-coded\n",
    "controls = str(np.arange(101,121))\n",
    "subjs = ['001', '002', '003', '004', '005', '006', '007', '008', '009', '010', \\\n",
    "        '011', '012', '013', '014', '015', '016', '017', '018', '019', '020', '021', '022']\n",
    "onoffsubjs = ['011', '012', '013', '014', '015', '016', '017', '020', '021', '022']\n",
    "    \n",
    "onmeds = ['011_2', '012_2', '013_2', '014_2', '015_2', '016_2', '017_2', '018_2', '019_2', '020_2', '021_2', '022_2']\n",
    "offmeds = ['001', '002', '003', '004', '005', '006', '007', '008', '009', '010', \\\n",
    "           '011_1', '012_1', '013_1', '014_1', '015_1', '016_1', '017_1', '018', \\\n",
    "           '019', '020_1', '021_1', '022_2']\n",
    "\n",
    "# main directory where data is stored\n",
    "mainDir = '/Users/adam2392/Documents/MATLAB/Neural_Interaction_Lab_MatlabForPD/02_StepAnalysis/Processed_StepLength/'\n",
    "kinectFiles = []\n",
    "for file in os.listdir(mainDir):\n",
    "    if file.endswith('.mat'):\n",
    "        kinectFiles.append(file)\n",
    "\n",
    "print kinectFiles"
   ]
  },
  {
   "cell_type": "code",
   "execution_count": 3,
   "metadata": {
    "collapsed": true
   },
   "outputs": [],
   "source": [
    "def loadmat(filename):\n",
    "    '''\n",
    "    this function should be called instead of direct spio.loadmat\n",
    "    as it cures the problem of not properly recovering python dictionaries\n",
    "    from mat files. It calls the function check keys to cure all entries\n",
    "    which are still mat-objects\n",
    "    '''\n",
    "    data = scipy.io.loadmat(filename, struct_as_record=False, squeeze_me=True)\n",
    "    return _check_keys(data)\n",
    "\n",
    "def _check_keys(dict):\n",
    "    '''\n",
    "    checks if entries in dictionary are mat-objects. If yes\n",
    "    todict is called to change them to nested dictionaries\n",
    "    '''\n",
    "    for key in dict:\n",
    "        if isinstance(dict[key], scipy.io.matlab.mio5_params.mat_struct):\n",
    "            dict[key] = _todict(dict[key])\n",
    "    return dict        \n",
    "\n",
    "def _todict(matobj):\n",
    "    '''\n",
    "    A recursive function which constructs from matobjects nested dictionaries\n",
    "    '''\n",
    "    dict = {}\n",
    "    for strg in matobj._fieldnames:\n",
    "        elem = matobj.__dict__[strg]\n",
    "        if isinstance(elem, scipy.io.matlab.mio5_params.mat_struct):\n",
    "            dict[strg] = _todict(elem)\n",
    "        elif isinstance(elem,np.ndarray):\n",
    "            dict[strg] = _tolist(elem)\n",
    "        else:\n",
    "            dict[strg] = elem\n",
    "    return dict\n",
    "\n",
    "def _tolist(ndarray):\n",
    "    '''\n",
    "    A recursive function which constructs lists from cellarrays \n",
    "    (which are loaded as numpy ndarrays), recursing into the elements\n",
    "    if they contain matobjects.\n",
    "    '''\n",
    "    elem_list = []            \n",
    "    for sub_elem in ndarray:\n",
    "        if isinstance(sub_elem, scipy.io.matlab.mio5_params.mat_struct):\n",
    "            elem_list.append(_todict(sub_elem))\n",
    "        elif isinstance(sub_elem,np.ndarray):\n",
    "            elem_list.append(_tolist(sub_elem))\n",
    "        else:\n",
    "            elem_list.append(sub_elem)\n",
    "    return elem_list\n",
    "\n",
    "def convertMatToJSON(matData, fileName):\n",
    "    for key in matData.keys():\n",
    "        if (type(matData[key])) is np.ndarray:\n",
    "            serializedData = pickle.dumps(matData[key], protocol=0) # protocol 0 is printable ASCII\n",
    "            jsonData[key] = serializedData\n",
    "        else:\n",
    "            jsonData[key] = matData[key]\n",
    "\n",
    "    with contextlib.closing(bz2.BZ2File(fileName, 'wb')) as f:\n",
    "        json.dump(jsonData, f)"
   ]
  },
  {
   "cell_type": "markdown",
   "metadata": {},
   "source": [
    "# 1a. Organize Controls Data"
   ]
  },
  {
   "cell_type": "code",
   "execution_count": 33,
   "metadata": {
    "collapsed": false,
    "scrolled": true
   },
   "outputs": [
    {
     "name": "stdout",
     "output_type": "stream",
     "text": [
      "['pks', 'avgVelocity', 'loc', 'timestamps', 'time', 'hnAmplitude', 'hnPks', 'hnVariance', 'hnVelocity', 'hasHeight', 'step', 'frequency', 'amplitude', 'velocity', 'stepLength', 'variance', 'hnStepLength', 'cadence', 'hnAvgVelocity']\n",
      "['pks', 'avgVelocity', 'loc', 'timestamps', 'time', 'hnAmplitude', 'hnPks', 'hnVariance', 'hnVelocity', 'hasHeight', 'step', 'frequency', 'amplitude', 'velocity', 'stepLength', 'variance', 'hnStepLength', 'cadence', 'hnAvgVelocity']\n",
      "['pks', 'avgVelocity', 'loc', 'timestamps', 'time', 'hnAmplitude', 'hnPks', 'hnVariance', 'hnVelocity', 'hasHeight', 'step', 'frequency', 'amplitude', 'velocity', 'stepLength', 'variance', 'hnStepLength', 'cadence', 'hnAvgVelocity']\n",
      "['pks', 'avgVelocity', 'loc', 'timestamps', 'time', 'hnAmplitude', 'hnPks', 'hnVariance', 'hnVelocity', 'hasHeight', 'step', 'frequency', 'amplitude', 'velocity', 'stepLength', 'variance', 'hnStepLength', 'cadence', 'hnAvgVelocity']\n",
      "['pks', 'avgVelocity', 'loc', 'timestamps', 'time', 'hnAmplitude', 'hnPks', 'hnVariance', 'hnVelocity', 'hasHeight', 'step', 'frequency', 'amplitude', 'velocity', 'stepLength', 'variance', 'hnStepLength', 'cadence', 'hnAvgVelocity']\n",
      "['pks', 'avgVelocity', 'loc', 'timestamps', 'time', 'hnAmplitude', 'hnPks', 'hnVariance', 'hnVelocity', 'hasHeight', 'step', 'frequency', 'amplitude', 'velocity', 'stepLength', 'variance', 'hnStepLength', 'cadence', 'hnAvgVelocity']\n",
      "['pks', 'loc', 'timestamps', 'time', 'step', 'frequency', 'amplitude', 'velocity', 'stepLength', 'variance', 'cadence']\n",
      "['pks', 'loc', 'timestamps', 'time', 'step', 'frequency', 'amplitude', 'velocity', 'stepLength', 'variance', 'cadence']\n",
      "['pks', 'loc', 'timestamps', 'time', 'step', 'frequency', 'amplitude', 'velocity', 'stepLength', 'variance', 'cadence']\n",
      "['pks', 'loc', 'timestamps', 'time', 'step', 'frequency', 'amplitude', 'velocity', 'stepLength', 'variance', 'cadence']\n",
      "['pks', 'avgVelocity', 'loc', 'timestamps', 'time', 'hnAmplitude', 'hnPks', 'hnVariance', 'hnVelocity', 'hasHeight', 'step', 'frequency', 'amplitude', 'velocity', 'stepLength', 'variance', 'hnStepLength', 'cadence', 'hnAvgVelocity']\n",
      "['pks', 'avgVelocity', 'loc', 'timestamps', 'time', 'hnAmplitude', 'hnPks', 'hnVariance', 'hnVelocity', 'hasHeight', 'step', 'frequency', 'amplitude', 'velocity', 'stepLength', 'variance', 'hnStepLength', 'cadence', 'hnAvgVelocity']\n",
      "['pks', 'avgVelocity', 'loc', 'timestamps', 'time', 'hnAmplitude', 'hnPks', 'hnVariance', 'hnVelocity', 'hasHeight', 'step', 'frequency', 'amplitude', 'velocity', 'stepLength', 'variance', 'hnStepLength', 'cadence', 'hnAvgVelocity']\n",
      "['pks', 'avgVelocity', 'loc', 'timestamps', 'time', 'hnAmplitude', 'hnPks', 'hnVariance', 'hnVelocity', 'hasHeight', 'step', 'frequency', 'amplitude', 'velocity', 'stepLength', 'variance', 'hnStepLength', 'cadence', 'hnAvgVelocity']\n",
      "['pks', 'avgVelocity', 'loc', 'timestamps', 'time', 'hnAmplitude', 'hnPks', 'hnVariance', 'hnVelocity', 'hasHeight', 'step', 'frequency', 'amplitude', 'velocity', 'stepLength', 'variance', 'hnStepLength', 'cadence', 'hnAvgVelocity']\n",
      "['pks', 'avgVelocity', 'loc', 'timestamps', 'time', 'hnAmplitude', 'hnPks', 'hnVariance', 'hnVelocity', 'hasHeight', 'step', 'frequency', 'amplitude', 'velocity', 'stepLength', 'variance', 'hnStepLength', 'cadence', 'hnAvgVelocity']\n"
     ]
    },
    {
     "data": {
      "text/html": [
       "<div>\n",
       "<table border=\"1\" class=\"dataframe\">\n",
       "  <thead>\n",
       "    <tr style=\"text-align: right;\">\n",
       "      <th></th>\n",
       "      <th>Cadence</th>\n",
       "      <th>Hn Step Length</th>\n",
       "      <th>Hn Velocity</th>\n",
       "      <th>Patient</th>\n",
       "      <th>Step Length</th>\n",
       "      <th>Velocity</th>\n",
       "    </tr>\n",
       "  </thead>\n",
       "  <tbody>\n",
       "    <tr>\n",
       "      <th>0</th>\n",
       "      <td>0.599042</td>\n",
       "      <td>0.365030</td>\n",
       "      <td>0.000000</td>\n",
       "      <td>103</td>\n",
       "      <td>0.574849</td>\n",
       "      <td>0.000000</td>\n",
       "    </tr>\n",
       "    <tr>\n",
       "      <th>1</th>\n",
       "      <td>0.490125</td>\n",
       "      <td>0.309346</td>\n",
       "      <td>0.824924</td>\n",
       "      <td>103</td>\n",
       "      <td>0.487159</td>\n",
       "      <td>1.299090</td>\n",
       "    </tr>\n",
       "    <tr>\n",
       "      <th>2</th>\n",
       "      <td>0.544584</td>\n",
       "      <td>0.360799</td>\n",
       "      <td>0.549998</td>\n",
       "      <td>103</td>\n",
       "      <td>0.568186</td>\n",
       "      <td>0.866137</td>\n",
       "    </tr>\n",
       "    <tr>\n",
       "      <th>3</th>\n",
       "      <td>0.599042</td>\n",
       "      <td>0.360261</td>\n",
       "      <td>1.098356</td>\n",
       "      <td>103</td>\n",
       "      <td>0.567339</td>\n",
       "      <td>1.729691</td>\n",
       "    </tr>\n",
       "    <tr>\n",
       "      <th>4</th>\n",
       "      <td>0.381209</td>\n",
       "      <td>0.295755</td>\n",
       "      <td>0.859751</td>\n",
       "      <td>103</td>\n",
       "      <td>0.465754</td>\n",
       "      <td>1.353937</td>\n",
       "    </tr>\n",
       "  </tbody>\n",
       "</table>\n",
       "</div>"
      ],
      "text/plain": [
       "    Cadence  Hn Step Length  Hn Velocity Patient  Step Length  Velocity\n",
       "0  0.599042        0.365030     0.000000     103     0.574849  0.000000\n",
       "1  0.490125        0.309346     0.824924     103     0.487159  1.299090\n",
       "2  0.544584        0.360799     0.549998     103     0.568186  0.866137\n",
       "3  0.599042        0.360261     1.098356     103     0.567339  1.729691\n",
       "4  0.381209        0.295755     0.859751     103     0.465754  1.353937"
      ]
     },
     "metadata": {},
     "output_type": "display_data"
    }
   ],
   "source": [
    "controls = str(np.arange(101,121))\n",
    "\n",
    "# Get all control EPARC data\n",
    "kinectControldf = pd.DataFrame()\n",
    "for idx, file in enumerate(kinectFiles):\n",
    "    data = loadmat(mainDir + file)\n",
    "    keys = data.keys()\n",
    "    \n",
    "    subjName = file.split('_')[1]\n",
    "#     print subjName\n",
    "\n",
    "    if subjName in controls:\n",
    "        subj_key = 'Subj_' + subjName + '_Step'\n",
    "        stepData = data[subj_key]\n",
    "\n",
    "        print stepData.keys()\n",
    "        stepLength = stepData['pks']\n",
    "        velocity = stepData['velocity']\n",
    "        cadence = stepData['cadence']\n",
    "        cadence.append(np.nan)\n",
    "        \n",
    "        if 'hnPks' in stepData.keys():\n",
    "            hnstepLength = stepData['hnPks']\n",
    "            hnvelocity = stepData['hnVelocity']\n",
    "\n",
    "\n",
    "            toInsertdf = pd.DataFrame({\n",
    "                    'Patient': subjName,\n",
    "                    'Step Length': stepLength,\n",
    "                    'Velocity': velocity,\n",
    "                    'Cadence': cadence,\n",
    "                    'Hn Step Length': hnstepLength,\n",
    "                    'Hn Velocity': hnvelocity\n",
    "                })\n",
    "        else:\n",
    "            try:\n",
    "                toInsertdf = pd.DataFrame({\n",
    "                        'Patient': subjName,\n",
    "                        'Step Length': stepLength,\n",
    "                        'Velocity': velocity,\n",
    "                        'Cadence': cadence\n",
    "                    })\n",
    "            except:\n",
    "                toInsertdf = pd.DataFrame({\n",
    "                        'Patient': subjName,\n",
    "                        'Step Length': stepLength,\n",
    "#                         'Velocity': velocity,\n",
    "                        'Cadence': cadence\n",
    "                    })\n",
    "        toInsertdf.set_index('Patient')\n",
    "        kinectControldf = pd.concat([kinectControldf, toInsertdf], axis=0)\n",
    "\n",
    "display(kinectControldf.head())"
   ]
  },
  {
   "cell_type": "code",
   "execution_count": 35,
   "metadata": {
    "collapsed": false
   },
   "outputs": [
    {
     "name": "stdout",
     "output_type": "stream",
     "text": [
      "(1532, 6)\n"
     ]
    }
   ],
   "source": [
    "print kinectControldf.shape"
   ]
  },
  {
   "cell_type": "markdown",
   "metadata": {},
   "source": [
    "# 1b. Organize On Meds Kinect Data"
   ]
  },
  {
   "cell_type": "code",
   "execution_count": 64,
   "metadata": {
    "collapsed": false,
    "scrolled": true
   },
   "outputs": [
    {
     "data": {
      "text/html": [
       "<div>\n",
       "<table border=\"1\" class=\"dataframe\">\n",
       "  <thead>\n",
       "    <tr style=\"text-align: right;\">\n",
       "      <th></th>\n",
       "      <th>Cadence</th>\n",
       "      <th>Hn Step Length</th>\n",
       "      <th>Hn Velocity</th>\n",
       "      <th>Patient</th>\n",
       "      <th>Step Length</th>\n",
       "      <th>Velocity</th>\n",
       "    </tr>\n",
       "  </thead>\n",
       "  <tbody>\n",
       "    <tr>\n",
       "      <th>0</th>\n",
       "      <td>1.936922</td>\n",
       "      <td>0.185586</td>\n",
       "      <td>0.000000</td>\n",
       "      <td>011_2</td>\n",
       "      <td>0.185586</td>\n",
       "      <td>0.000000</td>\n",
       "    </tr>\n",
       "    <tr>\n",
       "      <th>1</th>\n",
       "      <td>22.080906</td>\n",
       "      <td>0.026135</td>\n",
       "      <td>0.030966</td>\n",
       "      <td>011_2</td>\n",
       "      <td>0.026135</td>\n",
       "      <td>0.030966</td>\n",
       "    </tr>\n",
       "    <tr>\n",
       "      <th>2</th>\n",
       "      <td>0.658553</td>\n",
       "      <td>0.379274</td>\n",
       "      <td>0.039665</td>\n",
       "      <td>011_2</td>\n",
       "      <td>0.379274</td>\n",
       "      <td>0.039665</td>\n",
       "    </tr>\n",
       "    <tr>\n",
       "      <th>3</th>\n",
       "      <td>0.697292</td>\n",
       "      <td>0.536127</td>\n",
       "      <td>1.805142</td>\n",
       "      <td>011_2</td>\n",
       "      <td>0.536127</td>\n",
       "      <td>1.805142</td>\n",
       "    </tr>\n",
       "    <tr>\n",
       "      <th>4</th>\n",
       "      <td>0.619815</td>\n",
       "      <td>0.455263</td>\n",
       "      <td>1.532873</td>\n",
       "      <td>011_2</td>\n",
       "      <td>0.455263</td>\n",
       "      <td>1.532873</td>\n",
       "    </tr>\n",
       "  </tbody>\n",
       "</table>\n",
       "</div>"
      ],
      "text/plain": [
       "     Cadence  Hn Step Length  Hn Velocity Patient  Step Length  Velocity\n",
       "0   1.936922        0.185586     0.000000   011_2     0.185586  0.000000\n",
       "1  22.080906        0.026135     0.030966   011_2     0.026135  0.030966\n",
       "2   0.658553        0.379274     0.039665   011_2     0.379274  0.039665\n",
       "3   0.697292        0.536127     1.805142   011_2     0.536127  1.805142\n",
       "4   0.619815        0.455263     1.532873   011_2     0.455263  1.532873"
      ]
     },
     "metadata": {},
     "output_type": "display_data"
    }
   ],
   "source": [
    "# Get all control EPARC data\n",
    "kinectOndf = pd.DataFrame()\n",
    "for idx, file in enumerate(kinectFiles):\n",
    "    data = loadmat(mainDir + file)\n",
    "    keys = data.keys()\n",
    "    \n",
    "    subj = file.split('_')\n",
    "    if subj[1] in onoffsubjs:\n",
    "        subjName = subj[1] + '_' + subj[2]\n",
    "    else:\n",
    "        subjName = subj[1]\n",
    "\n",
    "    if subjName in onmeds:\n",
    "        subj_key = 'Subj_' + subjName + '_Step'\n",
    "\n",
    "        stepData = data[subj_key]\n",
    "\n",
    "        # extract data from mat file\n",
    "        stepLength = stepData['pks']\n",
    "        velocity = stepData['velocity']\n",
    "        cadence = stepData['cadence']\n",
    "        cadence.append(np.nan)\n",
    "        \n",
    "        if 'hnPks' in stepData.keys():\n",
    "            hnstepLength = stepData['hnPks']\n",
    "            hnvelocity = stepData['hnVelocity']\n",
    "\n",
    "\n",
    "            toInsertdf = pd.DataFrame({\n",
    "                    'Patient': subjName,\n",
    "                    'Step Length': stepLength,\n",
    "                    'Velocity': velocity,\n",
    "                    'Cadence': cadence,\n",
    "                    'Hn Step Length': hnstepLength,\n",
    "                    'Hn Velocity': hnvelocity\n",
    "                })\n",
    "        else:\n",
    "            try:\n",
    "                toInsertdf = pd.DataFrame({\n",
    "                        'Patient': subjName,\n",
    "                        'Step Length': stepLength,\n",
    "                        'Velocity': velocity,\n",
    "                        'Cadence': cadence\n",
    "                    })\n",
    "            except:\n",
    "                toInsertdf = pd.DataFrame({\n",
    "                        'Patient': subjName,\n",
    "                        'Step Length': stepLength,\n",
    "#                         'Velocity': velocity,\n",
    "                        'Cadence': cadence\n",
    "                    })\n",
    "        toInsertdf.set_index('Patient')\n",
    "        kinectOndf = pd.concat([kinectOndf, toInsertdf], axis=0)\n",
    "\n",
    "display(kinectOndf.head())"
   ]
  },
  {
   "cell_type": "code",
   "execution_count": 65,
   "metadata": {
    "collapsed": false
   },
   "outputs": [
    {
     "data": {
      "text/plain": [
       "array(['011_2', '012_2', '013_2', '014_2', '015_2', '016_2', '017_2',\n",
       "       '020_2', '021_2', '022_2'], dtype=object)"
      ]
     },
     "metadata": {},
     "output_type": "display_data"
    }
   ],
   "source": [
    "display(np.unique(kinectOndf['Patient']))"
   ]
  },
  {
   "cell_type": "markdown",
   "metadata": {},
   "source": [
    "# 1c. Organize Off Meds Data"
   ]
  },
  {
   "cell_type": "code",
   "execution_count": 62,
   "metadata": {
    "collapsed": false,
    "scrolled": true
   },
   "outputs": [
    {
     "data": {
      "text/html": [
       "<div>\n",
       "<table border=\"1\" class=\"dataframe\">\n",
       "  <thead>\n",
       "    <tr style=\"text-align: right;\">\n",
       "      <th></th>\n",
       "      <th>Cadence</th>\n",
       "      <th>Hn Step Length</th>\n",
       "      <th>Hn Velocity</th>\n",
       "      <th>Patient</th>\n",
       "      <th>Step Length</th>\n",
       "      <th>Velocity</th>\n",
       "    </tr>\n",
       "  </thead>\n",
       "  <tbody>\n",
       "    <tr>\n",
       "      <th>0</th>\n",
       "      <td>1.048966</td>\n",
       "      <td>0.003300</td>\n",
       "      <td>0.000000</td>\n",
       "      <td>001</td>\n",
       "      <td>0.005952</td>\n",
       "      <td>0.000000</td>\n",
       "    </tr>\n",
       "    <tr>\n",
       "      <th>1</th>\n",
       "      <td>1.525769</td>\n",
       "      <td>0.074965</td>\n",
       "      <td>0.064848</td>\n",
       "      <td>001</td>\n",
       "      <td>0.135191</td>\n",
       "      <td>0.116947</td>\n",
       "    </tr>\n",
       "    <tr>\n",
       "      <th>2</th>\n",
       "      <td>0.635737</td>\n",
       "      <td>0.166328</td>\n",
       "      <td>0.121054</td>\n",
       "      <td>001</td>\n",
       "      <td>0.299957</td>\n",
       "      <td>0.218309</td>\n",
       "    </tr>\n",
       "    <tr>\n",
       "      <th>3</th>\n",
       "      <td>0.476803</td>\n",
       "      <td>0.148362</td>\n",
       "      <td>0.278353</td>\n",
       "      <td>001</td>\n",
       "      <td>0.267557</td>\n",
       "      <td>0.501982</td>\n",
       "    </tr>\n",
       "    <tr>\n",
       "      <th>4</th>\n",
       "      <td>0.413229</td>\n",
       "      <td>0.180594</td>\n",
       "      <td>0.684069</td>\n",
       "      <td>001</td>\n",
       "      <td>0.325684</td>\n",
       "      <td>1.233651</td>\n",
       "    </tr>\n",
       "  </tbody>\n",
       "</table>\n",
       "</div>"
      ],
      "text/plain": [
       "    Cadence  Hn Step Length  Hn Velocity Patient  Step Length  Velocity\n",
       "0  1.048966        0.003300     0.000000     001     0.005952  0.000000\n",
       "1  1.525769        0.074965     0.064848     001     0.135191  0.116947\n",
       "2  0.635737        0.166328     0.121054     001     0.299957  0.218309\n",
       "3  0.476803        0.148362     0.278353     001     0.267557  0.501982\n",
       "4  0.413229        0.180594     0.684069     001     0.325684  1.233651"
      ]
     },
     "metadata": {},
     "output_type": "display_data"
    }
   ],
   "source": [
    "# Get all control EPARC data\n",
    "kinectOffdf = pd.DataFrame()\n",
    "for idx, file in enumerate(kinectFiles):\n",
    "    data = loadmat(mainDir + file)\n",
    "    keys = data.keys()\n",
    "    \n",
    "    subj = file.split('_')\n",
    "    if subj[1] in onoffsubjs:\n",
    "        subjName = subj[1] + '_' + subj[2]\n",
    "    else:\n",
    "        subjName = subj[1]\n",
    "\n",
    "    if subjName in offmeds:\n",
    "        subj_key = 'Subj_' + subjName + '_Step'       \n",
    "        stepData = data[subj_key]\n",
    "\n",
    "        # extract the data from mat file\n",
    "        stepLength = stepData['pks']\n",
    "        velocity = stepData['velocity']\n",
    "        cadence = stepData['cadence']\n",
    "        cadence.append(np.nan)\n",
    "        \n",
    "        # put in height normalized data if available\n",
    "        if 'hnPks' in stepData.keys():\n",
    "            hnstepLength = stepData['hnPks']\n",
    "            hnvelocity = stepData['hnVelocity']\n",
    "\n",
    "\n",
    "            toInsertdf = pd.DataFrame({\n",
    "                    'Patient': subjName,\n",
    "                    'Step Length': stepLength,\n",
    "                    'Velocity': velocity,\n",
    "                    'Cadence': cadence,\n",
    "                    'Hn Step Length': hnstepLength,\n",
    "                    'Hn Velocity': hnvelocity\n",
    "                })\n",
    "        else:\n",
    "            try:\n",
    "                toInsertdf = pd.DataFrame({\n",
    "                        'Patient': subjName,\n",
    "                        'Step Length': stepLength,\n",
    "                        'Velocity': velocity,\n",
    "                        'Cadence': cadence\n",
    "                    })\n",
    "            except:\n",
    "                toInsertdf = pd.DataFrame({\n",
    "                        'Patient': subjName,\n",
    "                        'Step Length': stepLength,\n",
    "#                         'Velocity': velocity,\n",
    "                        'Cadence': cadence\n",
    "                    })\n",
    "        toInsertdf.set_index('Patient')\n",
    "        kinectOffdf = pd.concat([kinectOffdf, toInsertdf], axis=0)\n",
    "        \n",
    "display(kinectOffdf.head())"
   ]
  },
  {
   "cell_type": "code",
   "execution_count": 63,
   "metadata": {
    "collapsed": false
   },
   "outputs": [
    {
     "data": {
      "text/plain": [
       "array(['001', '002', '003', '005', '006', '007', '008', '009', '010',\n",
       "       '011_1', '012_1', '013_1', '014_1', '015_1', '016_1', '017_1',\n",
       "       '018', '019', '020_1', '021_1', '022_2'], dtype=object)"
      ]
     },
     "metadata": {},
     "output_type": "display_data"
    }
   ],
   "source": [
    "display(np.unique(kinectOffdf['Patient']))"
   ]
  },
  {
   "cell_type": "markdown",
   "metadata": {},
   "source": [
    "# 2. Save Control, Off, On DFs"
   ]
  },
  {
   "cell_type": "code",
   "execution_count": 66,
   "metadata": {
    "collapsed": true
   },
   "outputs": [],
   "source": [
    "mainDir = '/Users/adam2392/Documents/MATLAB/Neural_Interaction_Lab_MatlabForPD/notebooks/processed data/'\n",
    "\n",
    "# save each preprocessed df as a pickle file\n",
    "onFileName = 'kinectDataOnMeds.pkl'\n",
    "offFileName = 'kinectDataOffMeds.pkl'\n",
    "controlFileName = 'kinectDataControls.pkl'\n",
    "\n",
    "kinectOndf.to_pickle(mainDir + onFileName)\n",
    "kinectOffdf.to_pickle(mainDir + offFileName)\n",
    "kinectControldf.to_pickle(mainDir + controlFileName)"
   ]
  },
  {
   "cell_type": "markdown",
   "metadata": {},
   "source": [
    "# 3. Summarize Results For Each Group"
   ]
  },
  {
   "cell_type": "code",
   "execution_count": 70,
   "metadata": {
    "collapsed": false
   },
   "outputs": [
    {
     "name": "stdout",
     "output_type": "stream",
     "text": [
      "Independent T-test between On and Off Meds Step Length (P-Value):  1.44354775662e-10\n",
      "Independent T-test between On and Off Meds Velocity (P-Value):  9.69961787634e-12\n",
      "Independent T-test between On and Off Meds Cadence (P-Value):  0.953233153251\n",
      "Independent T-test between On and Off Meds HN Step Length (P-Value):  4.63715418269e-11\n",
      "Independent T-test between On and Off Meds HN Velocity (P-Value):  4.64132544412e-12\n"
     ]
    },
    {
     "data": {
      "image/png": "[encoded data removed]",
      "text/plain": [
       "<matplotlib.figure.Figure at 0x10a810350>"
      ]
     },
     "metadata": {},
     "output_type": "display_data"
    },
    {
     "data": {
      "image/png": "[encoded data removed]",
      "text/plain": [
       "<matplotlib.figure.Figure at 0x112017210>"
      ]
     },
     "metadata": {},
     "output_type": "display_data"
    },
    {
     "data": {
      "image/png": "[encoded data removed]",
      "text/plain": [
       "<matplotlib.figure.Figure at 0x11295dbd0>"
      ]
     },
     "metadata": {},
     "output_type": "display_data"
    },
    {
     "data": {
      "image/png": "[encoded data removed]",
      "text/plain": [
       "<matplotlib.figure.Figure at 0x112f8bc50>"
      ]
     },
     "metadata": {},
     "output_type": "display_data"
    },
    {
     "data": {
      "image/png": "[encoded data removed]",
      "text/plain": [
       "<matplotlib.figure.Figure at 0x113069110>"
      ]
     },
     "metadata": {},
     "output_type": "display_data"
    }
   ],
   "source": [
    "# Step Length\n",
    "onsteplength = kinectOndf['Step Length'].dropna()\n",
    "offsteplength = kinectOffdf['Step Length'].dropna()\n",
    "onvsoff_steplength = ttest_ind(a=onsteplength, b=offsteplength)\n",
    "\n",
    "fig = plt.figure()\n",
    "onsteplength.plot.hist(alpha=0.5)\n",
    "offsteplength.plot.hist(alpha=0.5)\n",
    "plt.grid(False)\n",
    "plt.xlabel('Step Length (m)')\n",
    "plt.title('Step Length Distribution (Kinect)')\n",
    "plt.legend(['On Meds', 'Off Meds'])\n",
    "\n",
    "print \"Independent T-test between On and Off Meds Step Length (P-Value): \", onvsoff_steplength[1]\n",
    "\n",
    "# Velocity\n",
    "onvelocity = kinectOndf['Velocity'].dropna()\n",
    "offvelocity = kinectOffdf['Velocity'].dropna()\n",
    "onvsoff_velocity = ttest_ind(a=onvelocity, b=offvelocity)\n",
    "\n",
    "fig = plt.figure()\n",
    "onvelocity.plot.hist(alpha=0.5)\n",
    "offvelocity.plot.hist(alpha=0.5)\n",
    "plt.grid(False)\n",
    "plt.xlabel('Velocity (m/s)')\n",
    "plt.title('Velocity Distribution (Kinect)')\n",
    "plt.legend(['On Meds', 'Off Meds'])\n",
    "\n",
    "print \"Independent T-test between On and Off Meds Velocity (P-Value): \", onvsoff_velocity[1]\n",
    "\n",
    "# Cadence\n",
    "oncadence = kinectOndf['Cadence'].dropna()\n",
    "offcadence = kinectOffdf['Cadence'].dropna()\n",
    "onvsoff_cadence = ttest_ind(a=oncadence, b=offcadence)\n",
    "\n",
    "fig = plt.figure()\n",
    "oncadence.plot.hist(alpha=0.5)\n",
    "offcadence.plot.hist(alpha=0.5)\n",
    "plt.grid(False)\n",
    "plt.xlabel('Cadence')\n",
    "plt.title('Cadence Distribution (Kinect)')\n",
    "plt.legend(['On Meds', 'Off Meds'])\n",
    "\n",
    "print \"Independent T-test between On and Off Meds Cadence (P-Value): \", onvsoff_cadence[1]\n",
    "\n",
    "## Height Normalized\n",
    "# HN Step Length\n",
    "onhnsteplength = kinectOndf['Hn Step Length'].dropna()\n",
    "offhnsteplength = kinectOffdf['Hn Step Length'].dropna()\n",
    "onvsoff_hnsteplength = ttest_ind(a=onhnsteplength, b=offhnsteplength)\n",
    "\n",
    "fig = plt.figure()\n",
    "onhnsteplength.plot.hist(alpha=0.5)\n",
    "offhnsteplength.plot.hist(alpha=0.5)\n",
    "plt.grid(False)\n",
    "plt.xlabel('Height Normalized Step Length')\n",
    "plt.title('Height Normalized Step Length Distribution (Kinect)')\n",
    "plt.legend(['On Meds', 'Off Meds'])\n",
    "\n",
    "print \"Independent T-test between On and Off Meds HN Step Length (P-Value): \", onvsoff_hnsteplength[1]\n",
    "\n",
    "# HN Velocity\n",
    "onhnvelocity = kinectOndf['Hn Velocity'].dropna()\n",
    "offhnvelocity = kinectOffdf['Hn Velocity'].dropna()\n",
    "onvsoff_hnvelocity = ttest_ind(a=onhnvelocity, b=offhnvelocity)\n",
    "\n",
    "fig = plt.figure()\n",
    "onhnvelocity.plot.hist(alpha=0.5)\n",
    "offhnvelocity.plot.hist(alpha=0.5)\n",
    "plt.grid(False)\n",
    "plt.xlabel('Height Normalized Velocity')\n",
    "plt.title('Height Normalized Velocity Distribution (Kinect)')\n",
    "plt.legend(['On Meds', 'Off Meds'])\n",
    "\n",
    "print \"Independent T-test between On and Off Meds HN Velocity (P-Value): \", onvsoff_hnvelocity[1]"
   ]
  },
  {
   "cell_type": "markdown",
   "metadata": {},
   "source": [
    "### Control Vs Off"
   ]
  },
  {
   "cell_type": "code",
   "execution_count": 73,
   "metadata": {
    "collapsed": false
   },
   "outputs": [
    {
     "name": "stdout",
     "output_type": "stream",
     "text": [
      "Independent T-test between Ccontroltrol and Off Meds Step Length (P-Value):  0.000300731449516\n",
      "Independent T-test between Ccontroltrol and Off Meds Velocity (P-Value):  0.0011778662756\n",
      "Independent T-test between Ccontroltrol and Off Meds Cadence (P-Value):  2.94580721874e-05\n",
      "Independent T-test between Ccontroltrol and Off Meds HN Step Length (P-Value):  0.451082815863\n",
      "Independent T-test between Ccontroltrol and Off Meds HN Velocity (P-Value):  0.623056693399\n"
     ]
    },
    {
     "data": {
      "image/png": "[encoded data removed]",
      "text/plain": [
       "<matplotlib.figure.Figure at 0x112f51050>"
      ]
     },
     "metadata": {},
     "output_type": "display_data"
    },
    {
     "data": {
      "image/png": "[encoded data removed]",
      "text/plain": [
       "<matplotlib.figure.Figure at 0x112fa6e90>"
      ]
     },
     "metadata": {},
     "output_type": "display_data"
    },
    {
     "data": {
      "image/png": "[encoded data removed]",
      "text/plain": [
       "<matplotlib.figure.Figure at 0x112e42b10>"
      ]
     },
     "metadata": {},
     "output_type": "display_data"
    },
    {
     "data": {
      "image/png": "[encoded data removed]",
      "text/plain": [
       "<matplotlib.figure.Figure at 0x112f8bed0>"
      ]
     },
     "metadata": {},
     "output_type": "display_data"
    },
    {
     "data": {
      "image/png": "[encoded data removed]",
      "text/plain": [
       "<matplotlib.figure.Figure at 0x112ff9d50>"
      ]
     },
     "metadata": {},
     "output_type": "display_data"
    }
   ],
   "source": [
    "# Step Length\n",
    "controlsteplength = kinectControldf['Step Length'].dropna()\n",
    "offsteplength = kinectOffdf['Step Length'].dropna()\n",
    "controlvsoff_steplength = ttest_ind(a=controlsteplength, b=offsteplength)\n",
    "\n",
    "fig = plt.figure()\n",
    "controlsteplength.plot.hist(alpha=0.5)\n",
    "offsteplength.plot.hist(alpha=0.5)\n",
    "plt.grid(False)\n",
    "plt.xlabel('Step Length (m)')\n",
    "plt.title('Step Length Distributicontrol (Kinect)')\n",
    "plt.legend(['Ccontroltrol Meds', 'Off Meds'])\n",
    "\n",
    "print \"Independent T-test between Ccontroltrol and Off Meds Step Length (P-Value): \", controlvsoff_steplength[1]\n",
    "\n",
    "# Velocity\n",
    "controlvelocity = kinectControldf['Velocity'].dropna()\n",
    "offvelocity = kinectOffdf['Velocity'].dropna()\n",
    "controlvsoff_velocity = ttest_ind(a=controlvelocity, b=offvelocity)\n",
    "\n",
    "fig = plt.figure()\n",
    "controlvelocity.plot.hist(alpha=0.5)\n",
    "offvelocity.plot.hist(alpha=0.5)\n",
    "plt.grid(False)\n",
    "plt.xlabel('Velocity (m/s)')\n",
    "plt.title('Velocity Distributicontrol (Kinect)')\n",
    "plt.legend(['Ccontroltrol Meds', 'Off Meds'])\n",
    "\n",
    "print \"Independent T-test between Ccontroltrol and Off Meds Velocity (P-Value): \", controlvsoff_velocity[1]\n",
    "\n",
    "# Cadence\n",
    "controlcadence = kinectControldf['Cadence'].dropna()\n",
    "offcadence = kinectOffdf['Cadence'].dropna()\n",
    "controlvsoff_cadence = ttest_ind(a=controlcadence, b=offcadence)\n",
    "\n",
    "fig = plt.figure()\n",
    "controlcadence.plot.hist(alpha=0.5)\n",
    "offcadence.plot.hist(alpha=0.5)\n",
    "plt.grid(False)\n",
    "plt.xlabel('Cadence')\n",
    "plt.title('Cadence Distributicontrol (Kinect)')\n",
    "plt.legend(['Ccontroltrol Meds', 'Off Meds'])\n",
    "\n",
    "print \"Independent T-test between Ccontroltrol and Off Meds Cadence (P-Value): \", controlvsoff_cadence[1]\n",
    "\n",
    "## Height Normalized\n",
    "# HN Step Length\n",
    "controlhnsteplength = kinectControldf['Hn Step Length'].dropna()\n",
    "offhnsteplength = kinectOffdf['Hn Step Length'].dropna()\n",
    "controlvsoff_hnsteplength = ttest_ind(a=controlhnsteplength, b=offhnsteplength)\n",
    "\n",
    "fig = plt.figure()\n",
    "controlhnsteplength.plot.hist(alpha=0.5)\n",
    "offhnsteplength.plot.hist(alpha=0.5)\n",
    "plt.grid(False)\n",
    "plt.xlabel('Height Normalized Step Length')\n",
    "plt.title('Height Normalized Step Length Distributicontrol (Kinect)')\n",
    "plt.legend(['Ccontroltrol Meds', 'Off Meds'])\n",
    "\n",
    "print \"Independent T-test between Ccontroltrol and Off Meds HN Step Length (P-Value): \", controlvsoff_hnsteplength[1]\n",
    "\n",
    "# HN Velocity\n",
    "controlhnvelocity = kinectControldf['Hn Velocity'].dropna()\n",
    "offhnvelocity = kinectOffdf['Hn Velocity'].dropna()\n",
    "controlvsoff_hnvelocity = ttest_ind(a=controlhnvelocity, b=offhnvelocity)\n",
    "\n",
    "fig = plt.figure()\n",
    "controlhnvelocity.plot.hist(alpha=0.5)\n",
    "offhnvelocity.plot.hist(alpha=0.5)\n",
    "plt.grid(False)\n",
    "plt.xlabel('Height Normalized Velocity')\n",
    "plt.title('Height Normalized Velocity Distributicontrol (Kinect)')\n",
    "plt.legend(['Ccontroltrol Meds', 'Off Meds'])\n",
    "\n",
    "print \"Independent T-test between Ccontroltrol and Off Meds HN Velocity (P-Value): \", controlvsoff_hnvelocity[1]\n"
   ]
  },
  {
   "cell_type": "code",
   "execution_count": 75,
   "metadata": {
    "collapsed": false
   },
   "outputs": [
    {
     "name": "stdout",
     "output_type": "stream",
     "text": [
      " Summary for each group\n",
      "Velocity of off meds:  0.706950009534  +/-  0.662623720258\n",
      "Step Length of off meds:  0.264508896891  +/-  0.174864297313\n",
      "Cadence of off meds:  2.5060571203  +/-  6.25313868664\n",
      "HN Velocity of off meds:  0.461919022758  +/-  0.453387856411\n",
      "HN Step Length of off meds:  0.171829120429  +/-  0.120175489524\n",
      "\n",
      "\n",
      "Velocity of on meds:  0.911548312208  +/-  0.776695183709\n",
      "Step Length of on meds:  0.31449938649  +/-  0.197223248158\n",
      "Cadence of on meds:  2.49080776364  +/-  5.77628154193\n",
      "HN Velocity of on meds:  0.605192079508  +/-  0.541033192936\n",
      "HN Step Length of on meds:  0.207436669008  +/-  0.138620069033\n",
      "\n",
      "\n",
      "Velocity of control:  0.794349215675  +/-  0.727343073618\n",
      "Step Length of control:  0.288516303501  +/-  0.195447075202\n",
      "Cadence of control:  1.65700204736  +/-  4.90967756927\n",
      "HN Velocity of control:  0.47046006537  +/-  0.434272937247\n",
      "HN Step Length of control:  0.17532864696  +/-  0.117487201057\n"
     ]
    }
   ],
   "source": [
    "print \"Summary for each group\"\n",
    "print \"Velocity of off meds: \", np.mean(offvelocity), ' +/- ', np.std(offvelocity)\n",
    "print \"Step Length of off meds: \", np.mean(offsteplength), ' +/- ', np.std(offsteplength)\n",
    "print \"Cadence of off meds: \", np.mean(offcadence), ' +/- ', np.std(offcadence)\n",
    "print \"HN Velocity of off meds: \", np.mean(offhnvelocity), ' +/- ', np.std(offhnvelocity)\n",
    "print \"HN Step Length of off meds: \", np.mean(offhnsteplength), ' +/- ', np.std(offhnsteplength)\n",
    "\n",
    "print \"\\n\"\n",
    "print \"Velocity of on meds: \", np.mean(onvelocity), ' +/- ', np.std(onvelocity)\n",
    "print \"Step Length of on meds: \", np.mean(onsteplength), ' +/- ', np.std(onsteplength)\n",
    "print \"Cadence of on meds: \", np.mean(oncadence), ' +/- ', np.std(oncadence)\n",
    "print \"HN Velocity of on meds: \", np.mean(onhnvelocity), ' +/- ', np.std(onhnvelocity)\n",
    "print \"HN Step Length of on meds: \", np.mean(onhnsteplength), ' +/- ', np.std(onhnsteplength)\n",
    "\n",
    "print \"\\n\"\n",
    "print \"Velocity of control: \", np.mean(controlvelocity), ' +/- ', np.std(controlvelocity)\n",
    "print \"Step Length of control: \", np.mean(controlsteplength), ' +/- ', np.std(controlsteplength)\n",
    "print \"Cadence of control: \", np.mean(controlcadence), ' +/- ', np.std(controlcadence)\n",
    "print \"HN Velocity of control: \", np.mean(controlhnvelocity), ' +/- ', np.std(controlhnvelocity)\n",
    "print \"HN Step Length of control: \", np.mean(controlhnsteplength), ' +/- ', np.std(controlhnsteplength)"
   ]
  },
  {
   "cell_type": "code",
   "execution_count": null,
   "metadata": {
    "collapsed": true
   },
   "outputs": [],
   "source": []
  }
 ],
 "metadata": {
  "kernelspec": {
   "display_name": "Python 2",
   "language": "python",
   "name": "python2"
  },
  "language_info": {
   "codemirror_mode": {
    "name": "ipython",
    "version": 2
   },
   "file_extension": ".py",
   "mimetype": "text/x-python",
   "name": "python",
   "nbconvert_exporter": "python",
   "pygments_lexer": "ipython2",
   "version": "2.7.11"
  }
 },
 "nbformat": 4,
 "nbformat_minor": 1
}
