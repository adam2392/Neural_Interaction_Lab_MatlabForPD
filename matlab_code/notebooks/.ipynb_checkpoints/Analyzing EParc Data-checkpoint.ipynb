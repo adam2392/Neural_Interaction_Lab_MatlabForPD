{
 "cells": [
  {
   "cell_type": "code",
   "execution_count": 2,
   "metadata": {
    "collapsed": false
   },
   "outputs": [
    {
     "name": "stderr",
     "output_type": "stream",
     "text": [
      "/usr/local/lib/python2.7/site-packages/matplotlib/font_manager.py:273: UserWarning: Matplotlib is building the font cache using fc-list. This may take a moment.\n",
      "  warnings.warn('Matplotlib is building the font cache using fc-list. This may take a moment.')\n"
     ]
    }
   ],
   "source": [
    "import pandas as pd\n",
    "import numpy as np\n",
    "import json\n",
    "from IPython.display import display\n",
    "\n",
    "import matplotlib\n",
    "from matplotlib import *\n",
    "from matplotlib import pyplot as plt\n",
    "\n",
    "from sklearn.decomposition import PCA\n",
    "import scipy.stats as stats\n",
    "import scipy.io\n",
    "from scipy.spatial import distance as Distance\n",
    "from scipy.stats import ttest_ind\n",
    "from scipy.stats import binom_test\n",
    "\n",
    "# pretty charting\n",
    "import seaborn as sns\n",
    "sns.set_palette('muted')\n",
    "sns.set_style('darkgrid')\n",
    "\n",
    "import random\n",
    "random.seed(9001)\n",
    "\n",
    "%matplotlib inline\n",
    "\n",
    "## sklearn imports\n",
    "# import sklearn.linear_model\n",
    "# import sklearn.cross_validation\n",
    "# import sklearn.tree\n",
    "# import sklearn.ensemble\n",
    "# import sklearn.preprocessing\n",
    "# import sklearn.feature_selection\n",
    "# import sklearn.pipeline\n",
    "# import sklearn.grid_search"
   ]
  },
  {
   "cell_type": "code",
   "execution_count": 3,
   "metadata": {
    "collapsed": false
   },
   "outputs": [
    {
     "name": "stdout",
     "output_type": "stream",
     "text": [
      "['David_Walk_Compiled_001.xlsx', 'David_Walk_Compiled_002.xlsx', 'David_Walk_Compiled_003.xlsx', 'David_Walk_Compiled_005.xlsx', 'David_Walk_Compiled_006.xlsx', 'David_Walk_Compiled_007.xlsx', 'David_Walk_Compiled_008.xlsx', 'David_Walk_Compiled_009.xlsx', 'David_Walk_Compiled_010.xlsx', 'David_Walk_Compiled_012.xlsx', 'David_Walk_Compiled_013.xlsx', 'David_Walk_Compiled_014.xlsx', 'David_Walk_Compiled_015.xlsx', 'David_Walk_Compiled_016.xlsx', 'David_Walk_Compiled_017.xlsx', 'David_Walk_Compiled_018.xlsx', 'David_Walk_Compiled_019.xlsx', 'David_Walk_Compiled_020.xlsx', 'David_Walk_Compiled_021.xlsx', 'David_Walk_Compiled_022.xlsx', 'David_Walk_Compiled_101.xlsx', 'David_Walk_Compiled_103.xlsx', 'David_Walk_Compiled_104.xlsx', 'David_Walk_Compiled_105.xlsx', 'David_Walk_Compiled_106.xlsx', 'David_Walk_Compiled_107.xlsx', 'David_Walk_Compiled_108.xlsx', 'David_Walk_Compiled_109.xlsx', 'David_Walk_Compiled_110.xlsx', 'David_Walk_Compiled_112.xlsx', 'David_Walk_Compiled_113.xlsx', 'David_Walk_Compiled_114.xlsx', 'David_Walk_Compiled_115.xlsx', 'David_Walk_Compiled_116.xlsx', 'David_Walk_Compiled_117.xlsx', 'David_Walk_Compiled_118.xlsx', 'David_Walk_Compiled_119.xlsx', 'David_Walk_Compiled_120.xlsx']\n"
     ]
    }
   ],
   "source": [
    "# subjects hard-coded\n",
    "controls = str(np.arange(101,121))\n",
    "subjs = ['001', '002', '003', '004', '005', '006', '007', '008', '009', '010', \\\n",
    "        '011', '012', '013', '014', '015', '016', '017', '018', '019', '020', '021', '022']\n",
    "    \n",
    "# main directory where data is stored\n",
    "mainDir = '/Users/adam2392/Documents/MATLAB/Neural_Interaction_Lab_MatlabForPD/05_Eparc/'\n",
    "eparcFiles = []\n",
    "for file in os.listdir(mainDir):\n",
    "    if file.endswith('.xlsx'):\n",
    "        eparcFiles.append(file)\n",
    "\n",
    "print eparcFiles"
   ]
  },
  {
   "cell_type": "markdown",
   "metadata": {},
   "source": [
    "# 1. Organize All Eparc Data into Single DF\n",
    "Getting rid of height, dob, test time and test date because that info isn't necessary."
   ]
  },
  {
   "cell_type": "code",
   "execution_count": 6,
   "metadata": {
    "collapsed": false,
    "scrolled": true
   },
   "outputs": [
    {
     "name": "stderr",
     "output_type": "stream",
     "text": [
      "/usr/local/lib/python2.7/site-packages/ipykernel/__main__.py:12: SettingWithCopyWarning: \n",
      "A value is trying to be set on a copy of a slice from a DataFrame.\n",
      "Try using .loc[row_indexer,col_indexer] = value instead\n",
      "\n",
      "See the caveats in the documentation: http://pandas.pydata.org/pandas-docs/stable/indexing.html#indexing-view-versus-copy\n"
     ]
    },
    {
     "data": {
      "text/html": [
       "<div>\n",
       "<table border=\"1\" class=\"dataframe\">\n",
       "  <thead>\n",
       "    <tr style=\"text-align: right;\">\n",
       "      <th></th>\n",
       "      <th>Subject Name</th>\n",
       "      <th>Trial</th>\n",
       "      <th>Step Width (cm)</th>\n",
       "      <th>Step Length (cm)</th>\n",
       "      <th>Speed (cm/s)</th>\n",
       "      <th>Step Length Symmetry (%)</th>\n",
       "    </tr>\n",
       "  </thead>\n",
       "  <tbody>\n",
       "    <tr>\n",
       "      <th>5</th>\n",
       "      <td>112</td>\n",
       "      <td>6</td>\n",
       "      <td>19.4</td>\n",
       "      <td>58.7</td>\n",
       "      <td>70.7</td>\n",
       "      <td>-6.0</td>\n",
       "    </tr>\n",
       "    <tr>\n",
       "      <th>8</th>\n",
       "      <td>108</td>\n",
       "      <td>9</td>\n",
       "      <td>18.6</td>\n",
       "      <td>60.4</td>\n",
       "      <td>93.6</td>\n",
       "      <td>19.0</td>\n",
       "    </tr>\n",
       "    <tr>\n",
       "      <th>2</th>\n",
       "      <td>112</td>\n",
       "      <td>3</td>\n",
       "      <td>23.8</td>\n",
       "      <td>60.7</td>\n",
       "      <td>74.9</td>\n",
       "      <td>-7.0</td>\n",
       "    </tr>\n",
       "    <tr>\n",
       "      <th>5</th>\n",
       "      <td>110</td>\n",
       "      <td>6</td>\n",
       "      <td>19.7</td>\n",
       "      <td>56.1</td>\n",
       "      <td>69.2</td>\n",
       "      <td>26.0</td>\n",
       "    </tr>\n",
       "    <tr>\n",
       "      <th>5</th>\n",
       "      <td>105</td>\n",
       "      <td>6</td>\n",
       "      <td>11.7</td>\n",
       "      <td>60.9</td>\n",
       "      <td>73.7</td>\n",
       "      <td>12.0</td>\n",
       "    </tr>\n",
       "    <tr>\n",
       "      <th>0</th>\n",
       "      <td>105</td>\n",
       "      <td>1</td>\n",
       "      <td>8.6</td>\n",
       "      <td>57.2</td>\n",
       "      <td>64.7</td>\n",
       "      <td>6.0</td>\n",
       "    </tr>\n",
       "    <tr>\n",
       "      <th>7</th>\n",
       "      <td>114</td>\n",
       "      <td>8</td>\n",
       "      <td>14.0</td>\n",
       "      <td>37.6</td>\n",
       "      <td>60.4</td>\n",
       "      <td>27.0</td>\n",
       "    </tr>\n",
       "    <tr>\n",
       "      <th>8</th>\n",
       "      <td>118</td>\n",
       "      <td>9</td>\n",
       "      <td>11.5</td>\n",
       "      <td>62.1</td>\n",
       "      <td>68.6</td>\n",
       "      <td>-16.0</td>\n",
       "    </tr>\n",
       "    <tr>\n",
       "      <th>0</th>\n",
       "      <td>108</td>\n",
       "      <td>1</td>\n",
       "      <td>20.7</td>\n",
       "      <td>60.2</td>\n",
       "      <td>93.3</td>\n",
       "      <td>23.0</td>\n",
       "    </tr>\n",
       "    <tr>\n",
       "      <th>6</th>\n",
       "      <td>113</td>\n",
       "      <td>7</td>\n",
       "      <td>25.2</td>\n",
       "      <td>40.8</td>\n",
       "      <td>65.7</td>\n",
       "      <td>8.0</td>\n",
       "    </tr>\n",
       "  </tbody>\n",
       "</table>\n",
       "</div>"
      ],
      "text/plain": [
       "  Subject Name  Trial  Step Width (cm)  Step Length (cm)  Speed (cm/s)  \\\n",
       "5          112      6             19.4              58.7          70.7   \n",
       "8          108      9             18.6              60.4          93.6   \n",
       "2          112      3             23.8              60.7          74.9   \n",
       "5          110      6             19.7              56.1          69.2   \n",
       "5          105      6             11.7              60.9          73.7   \n",
       "0          105      1              8.6              57.2          64.7   \n",
       "7          114      8             14.0              37.6          60.4   \n",
       "8          118      9             11.5              62.1          68.6   \n",
       "0          108      1             20.7              60.2          93.3   \n",
       "6          113      7             25.2              40.8          65.7   \n",
       "\n",
       "   Step Length Symmetry (%)  \n",
       "5                      -6.0  \n",
       "8                      19.0  \n",
       "2                      -7.0  \n",
       "5                      26.0  \n",
       "5                      12.0  \n",
       "0                       6.0  \n",
       "7                      27.0  \n",
       "8                     -16.0  \n",
       "0                      23.0  \n",
       "6                       8.0  "
      ]
     },
     "metadata": {},
     "output_type": "display_data"
    }
   ],
   "source": [
    "controls = np.arange(101,121)\n",
    "\n",
    "# Get all control EPARC data\n",
    "eparcControldf = pd.DataFrame()\n",
    "for idx, file in enumerate(eparcFiles):\n",
    "    tempdf = pd.read_excel(mainDir + file)\n",
    "    subjName = int(tempdf[~tempdf['Subject Name'].isnull()]['Subject Name'])\n",
    "    if subjName in controls:\n",
    "        tempdf['Subject Name'].fillna(subjName, inplace=True)\n",
    "    \n",
    "        toInsertdf = tempdf[['Subject Name', 'Trial', 'Step Width (cm)', 'Step Length (cm)', 'Speed (cm/s)', 'Step Length Symmetry (%)']]\n",
    "        toInsertdf['Subject Name'] = toInsertdf['Subject Name'].astype(int).astype(str)\n",
    "        eparcControldf = pd.concat([eparcControldf, toInsertdf], axis=0)\n",
    "\n",
    "display(eparcControldf.sample(n=10))"
   ]
  },
  {
   "cell_type": "code",
   "execution_count": 12,
   "metadata": {
    "collapsed": false,
    "scrolled": true
   },
   "outputs": [
    {
     "name": "stderr",
     "output_type": "stream",
     "text": [
      "/usr/local/lib/python2.7/site-packages/ipykernel/__main__.py:12: SettingWithCopyWarning: \n",
      "A value is trying to be set on a copy of a slice from a DataFrame.\n",
      "Try using .loc[row_indexer,col_indexer] = value instead\n",
      "\n",
      "See the caveats in the documentation: http://pandas.pydata.org/pandas-docs/stable/indexing.html#indexing-view-versus-copy\n"
     ]
    },
    {
     "name": "stdout",
     "output_type": "stream",
     "text": [
      "['013' '014' '015' '016' '017' '019' '020' '021' '022']\n",
      "['001' '002' '003' '005' '006' '007' '008' '009' '010' '012' '013' '014'\n",
      " '015' '016' '017' '019' '020' '021' '022']\n"
     ]
    }
   ],
   "source": [
    "# get all on and off meds\n",
    "# len(eparcdf[eparcdf['Subject Name'] == 13.0])\n",
    "eparcoffdf = pd.DataFrame()\n",
    "eparcondf = pd.DataFrame()\n",
    "for idx, file in enumerate(eparcFiles):\n",
    "    tempdf = pd.read_excel(mainDir + file)\n",
    "    subjName = int(tempdf[~tempdf['Subject Name'].isnull()]['Subject Name'])\n",
    "    \n",
    "    if subjName not in controls: # not a control subject\n",
    "        tempdf['Subject Name'].fillna(subjName, inplace=True)\n",
    "        toInsertdf = tempdf[['Subject Name', 'Trial', 'Step Width (cm)', 'Step Length (cm)', 'Speed (cm/s)', 'Step Length Symmetry (%)']]\n",
    "        toInsertdf['Subject Name'] = toInsertdf['Subject Name'].astype(int)\n",
    "        \n",
    "        di = {1: \"001\", 2: \"002\", 3: \"003\", 4:\"004\", 5:\"005\", 6:\"006\", 7:'007', 8:'008', 9:'009', \\\n",
    "             10:'010', 11:'011', 12:'012', 13:'013', 14:'014', 15:'015', 16:'016', 17:'017', 18:'018',\\\n",
    "             19:'019', 20:'020', 21:'021', 22:'022'}\n",
    "        toInsertdf.replace({\"Subject Name\": di}, inplace=True)\n",
    "        \n",
    "        if len(toInsertdf) > 9:\n",
    "            buffdf = toInsertdf # buffer the df\n",
    "            \n",
    "            # get off meds\n",
    "            toInsertdf = buffdf.iloc[0:9]\n",
    "            eparcoffdf = pd.concat([eparcoffdf, toInsertdf], axis=0)\n",
    "#             display(toInsertdf)\n",
    "            \n",
    "            # get when on meds\n",
    "            toInsertdf = buffdf.iloc[9:18]\n",
    "            eparcondf = pd.concat([eparcondf, toInsertdf], axis=0)\n",
    "#             display(toInsertdf)\n",
    "        else:\n",
    "#             display(toInsertdf)\n",
    "            eparcoffdf = pd.concat([eparcoffdf, toInsertdf], axis=0)\n",
    "\n",
    "print np.unique(eparcondf['Subject Name'])\n",
    "print np.unique(eparcoffdf['Subject Name'])\n",
    "# display(eparcondf)\n",
    "# display(eparcoffdf)"
   ]
  },
  {
   "cell_type": "markdown",
   "metadata": {},
   "source": [
    "\n",
    "# 2. Save On, Off, Controls DFs"
   ]
  },
  {
   "cell_type": "code",
   "execution_count": 14,
   "metadata": {
    "collapsed": true
   },
   "outputs": [],
   "source": [
    "mainDir = '/Users/adam2392/Documents/MATLAB/Neural_Interaction_Lab_MatlabForPD/notebooks/processed data/'\n",
    "\n",
    "# save each preprocessed df as a pickle file\n",
    "onFileName = 'eparcDataOnMeds.pkl'\n",
    "offFileName = 'eparcDataOffMeds.pkl'\n",
    "controlFileName = 'eparcDataControls.pkl'\n",
    "\n",
    "eparcondf.to_pickle(mainDir + onFileName)\n",
    "eparcoffdf.to_pickle(mainDir + offFileName)\n",
    "eparcControldf.to_pickle(mainDir + controlFileName)"
   ]
  },
  {
   "cell_type": "markdown",
   "metadata": {},
   "source": [
    "# 3. Summarize Results For Each Group\n",
    "Compare on vs off and then\n",
    "\n",
    "Compare off vs control"
   ]
  },
  {
   "cell_type": "code",
   "execution_count": 93,
   "metadata": {
    "collapsed": false
   },
   "outputs": [
    {
     "name": "stdout",
     "output_type": "stream",
     "text": [
      "Independent T-test between On and Off Meds Step Width (P-Value):  0.608113875329\n",
      "Independent T-test between On and Off Meds Step Length (P-Value):  3.62404892348e-05\n",
      "Independent T-test between On and Off Meds Step Symmetry (P-Value):  0.0891905342219\n"
     ]
    },
    {
     "data": {
      "image/png": "[encoded data removed]",
      "text/plain": [
       "<matplotlib.figure.Figure at 0x11526bed0>"
      ]
     },
     "metadata": {},
     "output_type": "display_data"
    },
    {
     "data": {
      "image/png": "[encoded data removed]",
      "text/plain": [
       "<matplotlib.figure.Figure at 0x114fcacd0>"
      ]
     },
     "metadata": {},
     "output_type": "display_data"
    },
    {
     "data": {
      "image/png": "[encoded data removed]",
      "text/plain": [
       "<matplotlib.figure.Figure at 0x114ce1890>"
      ]
     },
     "metadata": {},
     "output_type": "display_data"
    }
   ],
   "source": [
    "# Step Width\n",
    "onstepwidth = eparcondf['Step Width (cm)'].dropna()\n",
    "offstepwidth = eparcoffdf['Step Width (cm)'].dropna()\n",
    "onvsoff_stepwidth = ttest_ind(a=onstepwidth, b=offstepwidth)\n",
    "\n",
    "fig = plt.figure()\n",
    "onstepwidth.plot.hist(alpha=0.5)\n",
    "offstepwidth.plot.hist(alpha=0.5)\n",
    "plt.grid(False)\n",
    "plt.xlabel('Step Width (cm)')\n",
    "plt.title('Step Width Distribution (EPARC)')\n",
    "plt.legend(['On Meds', 'Off Meds'])\n",
    "\n",
    "print \"Independent T-test between On and Off Meds Step Width (P-Value): \", onvsoff_stepwidth[1]\n",
    "\n",
    "# Step Length\n",
    "onsteplength = eparcondf['Step Length (cm)'].dropna()\n",
    "offsteplength = eparcoffdf['Step Length (cm)'].dropna()\n",
    "onvsoff_steplength = ttest_ind(a=onsteplength, b=offsteplength)\n",
    "\n",
    "fig = plt.figure()\n",
    "onsteplength.plot.hist(alpha=0.5)\n",
    "offsteplength.plot.hist(alpha=0.5)\n",
    "plt.grid(False)\n",
    "plt.xlabel('Step Length (cm)')\n",
    "plt.title('Step Length Distribution (EPARC)')\n",
    "plt.legend(['On Meds', 'Off Meds'])\n",
    "\n",
    "print \"Independent T-test between On and Off Meds Step Length (P-Value): \", onvsoff_steplength[1]\n",
    "\n",
    "# Step Symmetrcy\n",
    "onstepsym = abs(eparcondf['Step Length Symmetry (%)'].dropna())\n",
    "offstepsym = abs(eparcoffdf['Step Length Symmetry (%)'].dropna())\n",
    "\n",
    "onstepsym = onstepsym[onstepsym < 100]\n",
    "offstepsym = offstepsym[offstepsym < 100]\n",
    "onvsoff_stepsym = ttest_ind(a=onstepsym, b=offstepsym)\n",
    "\n",
    "fig = plt.figure()\n",
    "onstepsym.plot.hist(alpha=0.5)\n",
    "offstepsym.plot.hist(alpha=0.5)\n",
    "plt.grid(False)\n",
    "plt.xlabel('Step Symmetry (%)')\n",
    "plt.title('Step Symmetry (EPARC)')\n",
    "plt.legend(['On Meds', 'Off Meds'])\n",
    "\n",
    "print \"Independent T-test between On and Off Meds Step Symmetry (P-Value): \", onvsoff_stepsym[1]"
   ]
  },
  {
   "cell_type": "markdown",
   "metadata": {},
   "source": [
    "### Control vs Off"
   ]
  },
  {
   "cell_type": "code",
   "execution_count": 96,
   "metadata": {
    "collapsed": false
   },
   "outputs": [
    {
     "name": "stdout",
     "output_type": "stream",
     "text": [
      "Independent T-test between Controls and Off Meds Step Width (P-Value):  0.00101705006876\n",
      "Independent T-test between Controls and Off Meds Step Length (P-Value):  0.00184853530267\n",
      "Independent T-test between Control and Off Meds Step Symmetry (P-Value):  0.0891905342219\n"
     ]
    },
    {
     "data": {
      "image/png": "[encoded data removed]",
      "text/plain": [
       "<matplotlib.figure.Figure at 0x1146c2150>"
      ]
     },
     "metadata": {},
     "output_type": "display_data"
    },
    {
     "data": {
      "image/png": "[encoded data removed]",
      "text/plain": [
       "<matplotlib.figure.Figure at 0x114756690>"
      ]
     },
     "metadata": {},
     "output_type": "display_data"
    },
    {
     "data": {
      "image/png": "[encoded data removed]",
      "text/plain": [
       "<matplotlib.figure.Figure at 0x115015890>"
      ]
     },
     "metadata": {},
     "output_type": "display_data"
    }
   ],
   "source": [
    "# Step Width\n",
    "controlstepwidth = eparcControldf['Step Width (cm)'].dropna()\n",
    "offstepwidth = eparcoffdf['Step Width (cm)'].dropna()\n",
    "controlvsoff_stepwidth = ttest_ind(a=controlstepwidth, b=offstepwidth)\n",
    "\n",
    "fig = plt.figure()\n",
    "controlstepwidth.plot.hist(alpha=0.5)\n",
    "offstepwidth.plot.hist(alpha=0.5)\n",
    "plt.grid(False)\n",
    "plt.xlabel('Step Width (cm)')\n",
    "plt.title('Step Width Distribution (EPARC)')\n",
    "plt.legend(['Controls', 'Off Meds'])\n",
    "\n",
    "print \"Independent T-test between Controls and Off Meds Step Width (P-Value): \", controlvsoff_stepwidth[1]\n",
    "\n",
    "# Step Length\n",
    "controlsteplength = eparcControldf['Step Length (cm)'].dropna()\n",
    "offsteplength = eparcoffdf['Step Length (cm)'].dropna()\n",
    "controlvsoff_steplength = ttest_ind(a=controlsteplength, b=offsteplength)\n",
    "\n",
    "fig = plt.figure()\n",
    "controlsteplength.plot.hist(alpha=0.5)\n",
    "offsteplength.plot.hist(alpha=0.5)\n",
    "plt.grid(False)\n",
    "plt.xlabel('Step Length (cm)')\n",
    "plt.title('Step Length Distribution (EPARC)')\n",
    "plt.legend(['Controls', 'Off Meds'])\n",
    "\n",
    "print \"Independent T-test between Controls and Off Meds Step Length (P-Value): \", controlvsoff_steplength[1]\n",
    "\n",
    "# Step Symmetrcy\n",
    "controlstepsym = abs(eparcControldf['Step Length Symmetry (%)'].dropna())\n",
    "offstepsym = abs(eparcoffdf['Step Length Symmetry (%)'].dropna())\n",
    "\n",
    "controlstepsym = controlstepsym[controlstepsym < 100]\n",
    "offstepsym = offstepsym[offstepsym < 100]\n",
    "controlvsoff_stepsym = ttest_ind(a=controlstepsym, b=offstepsym)\n",
    "\n",
    "fig = plt.figure()\n",
    "controlstepsym.plot.hist(alpha=0.5)\n",
    "offstepsym.plot.hist(alpha=0.5)\n",
    "plt.grid(False)\n",
    "plt.xlabel('Step Symmetry (%)')\n",
    "plt.title('Step Symmetry (EPARC)')\n",
    "plt.legend(['Controls', 'Off Meds'])\n",
    "\n",
    "print \"Independent T-test between Control and Off Meds Step Symmetry (P-Value): \", onvsoff_stepsym[1]"
   ]
  },
  {
   "cell_type": "code",
   "execution_count": 97,
   "metadata": {
    "collapsed": false
   },
   "outputs": [
    {
     "name": "stdout",
     "output_type": "stream",
     "text": [
      "Summary for each group\n",
      "Step Width of off meds:  14.6796296296  +/-  3.89464873278\n",
      "Step Length of off meds:  51.0527777778  +/-  17.0853600875\n",
      "Step Symmetry of off meds:  20.75  +/-  16.1736668693\n",
      "\n",
      "\n",
      "Step Width of on meds:  15.008974359  +/-  4.78762255376\n",
      "Step Length of on meds:  64.9628205128  +/-  27.3691296667\n",
      "Step Symmetry of on meds:  25.8474576271  +/-  20.8276328503\n",
      "\n",
      "\n",
      "Step Width of control:  16.5056603774  +/-  4.69793538599\n",
      "Step Length of control:  56.8698113208  +/-  12.9757963109\n",
      "Step Symmetry of control:  20.3310344828  +/-  18.1286799536\n"
     ]
    }
   ],
   "source": [
    "print \"Summary for each group\"\n",
    "print \"Step Width of off meds: \", np.mean(offstepwidth), ' +/- ', np.std(offstepwidth)\n",
    "print \"Step Length of off meds: \", np.mean(offsteplength), ' +/- ', np.std(offsteplength)\n",
    "print \"Step Symmetry of off meds: \", np.mean(offstepsym), ' +/- ', np.std(offstepsym)\n",
    "\n",
    "print \"\\n\"\n",
    "print \"Step Width of on meds: \", np.mean(onstepwidth), ' +/- ', np.std(onstepwidth)\n",
    "print \"Step Length of on meds: \", np.mean(onsteplength), ' +/- ', np.std(onsteplength)\n",
    "print \"Step Symmetry of on meds: \", np.mean(onstepsym), ' +/- ', np.std(onstepsym)\n",
    "\n",
    "print \"\\n\"\n",
    "print \"Step Width of control: \", np.mean(controlstepwidth), ' +/- ', np.std(controlstepwidth)\n",
    "print \"Step Length of control: \", np.mean(controlsteplength), ' +/- ', np.std(controlsteplength)\n",
    "print \"Step Symmetry of control: \", np.mean(controlstepsym), ' +/- ', np.std(controlstepsym)\n"
   ]
  },
  {
   "cell_type": "markdown",
   "metadata": {},
   "source": [
    "# 4. Discussion\n",
    "For on vs off medication, step length is the only thing that seemed to significantly change.\n",
    "\n",
    "For control vs off medication, step width and step length both seemed to change."
   ]
  },
  {
   "cell_type": "code",
   "execution_count": null,
   "metadata": {
    "collapsed": true
   },
   "outputs": [],
   "source": []
  }
 ],
 "metadata": {
  "kernelspec": {
   "display_name": "Python 2",
   "language": "python",
   "name": "python2"
  },
  "language_info": {
   "codemirror_mode": {
    "name": "ipython",
    "version": 2
   },
   "file_extension": ".py",
   "mimetype": "text/x-python",
   "name": "python",
   "nbconvert_exporter": "python",
   "pygments_lexer": "ipython2",
   "version": "2.7.11"
  }
 },
 "nbformat": 4,
 "nbformat_minor": 1
}
